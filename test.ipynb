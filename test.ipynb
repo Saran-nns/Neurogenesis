{
 "cells": [
  {
   "cell_type": "code",
   "execution_count": 1,
   "id": "8fe0e2cf-45a5-4307-a6d3-c00395b4e444",
   "metadata": {},
   "outputs": [
    {
     "name": "stderr",
     "output_type": "stream",
     "text": [
      "2022-04-04 16:19:37,597:INFO:Network Initialized\n",
      "2022-04-04 16:19:37,598:INFO:Number of connections in Wee 3900 , Wei 1581, Wie 8000\n",
      "2022-04-04 16:19:37,598:INFO:Shapes Wee (200, 200) Wei (40, 200) Wie (200, 40)\n",
      "100%|██████████| 1000/1000 [00:40<00:00, 24.50it/s]\n"
     ]
    }
   ],
   "source": [
    "from sorn import Simulator\n",
    "import numpy as np\n",
    "import matplotlib.pyplot as plt\n",
    "# Sample input\n",
    "num_features = 10\n",
    "timesteps = 1000\n",
    "simulation_inputs = np.zeros((num_features,timesteps))\n",
    "\n",
    "state_dict, sim_dict = Simulator.run(\n",
    "                inputs=simulation_inputs,\n",
    "                phase=\"plasticity\",\n",
    "                matrices=None,\n",
    "                timesteps=timesteps,\n",
    "                noise=True,\n",
    "                nu=num_features,\n",
    "                neurogenesis=True, \n",
    "                callbacks=[\n",
    "                    \"ExcitatoryActivation\",\n",
    "                    \"InhibitoryActivation\",\n",
    "                    \"RecurrentActivation\",\n",
    "                    \"WEE\",\n",
    "                    \"EIConnectionCounts\",\n",
    "                    \"TI\",\n",
    "                    \"EEConnectionCounts\",\n",
    "                    \"TE\",\n",
    "                    \"WEI\",\n",
    "                ],\n",
    "            )\n",
    "        "
   ]
  },
  {
   "cell_type": "code",
   "execution_count": 4,
   "id": "28d09157",
   "metadata": {},
   "outputs": [],
   "source": [
    "import PIL"
   ]
  },
  {
   "cell_type": "code",
   "execution_count": 13,
   "id": "f1dcb9b2-d68e-41f0-ac11-f9c82ccb628d",
   "metadata": {},
   "outputs": [
    {
     "name": "stdout",
     "output_type": "stream",
     "text": [
      "1000\n"
     ]
    },
    {
     "data": {
      "image/png": "[encoded data removed]",
      "text/plain": [
       "<Figure size 432x288 with 11 Axes>"
      ]
     },
     "metadata": {
      "needs_background": "light"
     },
     "output_type": "display_data"
    }
   ],
   "source": [
    "rows = 2\n",
    "print(len(sim_dict[\"WEE\"]))\n",
    "for num,(e,i) in enumerate(zip(sim_dict[\"WEE\"],sim_dict[\"WEI\"])):\n",
    "    if num<=10:\n",
    "        img = PIL.Image.fromarray(np.array(e))\n",
    "        plt.subplot(rows,10,num+1)\n",
    "        plt.axis('off')\n",
    "        plt.imshow(img)"
   ]
  },
  {
   "cell_type": "code",
   "execution_count": null,
   "id": "110bcc05-f995-4bca-ac98-c981d38d103f",
   "metadata": {},
   "outputs": [],
   "source": []
  }
 ],
 "metadata": {
  "kernelspec": {
   "display_name": "Python 3 (ipykernel)",
   "language": "python",
   "name": "python3"
  },
  "language_info": {
   "codemirror_mode": {
    "name": "ipython",
    "version": 3
   },
   "file_extension": ".py",
   "mimetype": "text/x-python",
   "name": "python",
   "nbconvert_exporter": "python",
   "pygments_lexer": "ipython3",
   "version": "3.9.0"
  }
 },
 "nbformat": 4,
 "nbformat_minor": 5
}
